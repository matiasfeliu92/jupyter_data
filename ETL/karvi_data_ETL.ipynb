{
 "cells": [
  {
   "cell_type": "code",
   "execution_count": 1,
   "id": "d3baefa9",
   "metadata": {},
   "outputs": [],
   "source": [
    "import pandas as pd\n",
    "from datetime import datetime, timedelta\n",
    "import requests\n",
    "from io import StringIO\n",
    "from bs4 import BeautifulSoup\n",
    "from lxml import html"
   ]
  },
  {
   "cell_type": "markdown",
   "id": "b47c9dd2",
   "metadata": {},
   "source": [
    "#### https://www.karvi.com.ar/autos-usados/,      https://autocity.com.ar/catalogo/0km/, https://www.autocosmos.com.ar/catalogo"
   ]
  },
  {
   "cell_type": "code",
   "execution_count": null,
   "id": "e2abfeb5",
   "metadata": {},
   "outputs": [],
   "source": []
  }
 ],
 "metadata": {
  "kernelspec": {
   "display_name": "Python 3 (ipykernel)",
   "language": "python",
   "name": "python3"
  },
  "language_info": {
   "codemirror_mode": {
    "name": "ipython",
    "version": 3
   },
   "file_extension": ".py",
   "mimetype": "text/x-python",
   "name": "python",
   "nbconvert_exporter": "python",
   "pygments_lexer": "ipython3",
   "version": "3.11.3"
  }
 },
 "nbformat": 4,
 "nbformat_minor": 5
}
